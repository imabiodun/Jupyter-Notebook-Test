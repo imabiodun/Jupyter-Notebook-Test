{
 "cells": [
  {
   "cell_type": "code",
   "execution_count": null,
   "id": "e8cd4cbb",
   "metadata": {},
   "outputs": [],
   "source": []
  },
  {
   "cell_type": "markdown",
   "id": "2421b7f1",
   "metadata": {},
   "source": [
    "# Data Science Tools and Ecosystem"
   ]
  },
  {
   "cell_type": "markdown",
   "id": "9e26cba1",
   "metadata": {},
   "source": [
    "In this notebook, Data Science Tools and Ecosystem are summarized"
   ]
  },
  {
   "cell_type": "markdown",
   "id": "4dd443fa",
   "metadata": {},
   "source": [
    "**Objectives:**\n",
    "* To learn Data Asset Management and Code Asset Management \n",
    "* To learn Open Source tools used in data Science\n",
    "* To Learn about different Kernels in a Notebook Session and about Jupyter Architecture\n",
    "* To learn the benefits of Python, R, C++, Scala and to determine the use of each"
   ]
  },
  {
   "cell_type": "markdown",
   "id": "f1c109cd",
   "metadata": {},
   "source": [
    "Some of the popular languages that Data Scientists use are:\n",
    "1. Python\n",
    "2. R\n",
    "3. Scala\n",
    "4. C++\n"
   ]
  },
  {
   "cell_type": "markdown",
   "id": "7f985415",
   "metadata": {},
   "source": [
    "Some of the commonly used libraries used by Data Scientists include:\n",
    "1. Numpy\n",
    "2. Pandas\n",
    "3. Matplotlib\n",
    "4. Seaborn"
   ]
  },
  {
   "cell_type": "markdown",
   "id": "d82325ab",
   "metadata": {},
   "source": [
    "|Data Science Tools |\n",
    "|-----|\n",
    "|Jupyter|\n",
    "|R Studio|\n",
    "|TensorFlow|\n",
    "| Apache Spark |"
   ]
  },
  {
   "cell_type": "markdown",
   "id": "01e0bec0",
   "metadata": {},
   "source": [
    "### Below are a few examples of evaluating arithmetic expressions in Python:   "
   ]
  },
  {
   "cell_type": "code",
   "execution_count": 4,
   "id": "dc770c09",
   "metadata": {},
   "outputs": [
    {
     "data": {
      "text/plain": [
       "17"
      ]
     },
     "execution_count": 4,
     "metadata": {},
     "output_type": "execute_result"
    }
   ],
   "source": [
    "# This a simple arithmetic expression to mutiply then add integers\n",
    "(3*4)+5"
   ]
  },
  {
   "cell_type": "code",
   "execution_count": 16,
   "id": "ded8f88e",
   "metadata": {},
   "outputs": [
    {
     "data": {
      "text/plain": [
       "'3hours 20mins'"
      ]
     },
     "execution_count": 16,
     "metadata": {},
     "output_type": "execute_result"
    }
   ],
   "source": [
    "#This will convert 200 minutes to hours by diving by 60\n",
    "str(200//60)+'hours '+str(200%60)+'mins'"
   ]
  },
  {
   "cell_type": "markdown",
   "id": "4d9a65dc",
   "metadata": {},
   "source": [
    "## Author\n",
    "Abiodun Olorunsogo"
   ]
  },
  {
   "cell_type": "code",
   "execution_count": null,
   "id": "9d2b0be6",
   "metadata": {},
   "outputs": [],
   "source": []
  }
 ],
 "metadata": {
  "kernelspec": {
   "display_name": "Python 3 (ipykernel)",
   "language": "python",
   "name": "python3"
  },
  "language_info": {
   "codemirror_mode": {
    "name": "ipython",
    "version": 3
   },
   "file_extension": ".py",
   "mimetype": "text/x-python",
   "name": "python",
   "nbconvert_exporter": "python",
   "pygments_lexer": "ipython3",
   "version": "3.8.6"
  }
 },
 "nbformat": 4,
 "nbformat_minor": 5
}
